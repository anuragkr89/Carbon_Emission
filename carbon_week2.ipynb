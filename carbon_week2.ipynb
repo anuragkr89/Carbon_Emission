{
 "cells": [
  {
   "cell_type": "code",
   "execution_count": null,
   "id": "2dce8daf",
   "metadata": {},
   "outputs": [],
   "source": [
    "# import all needed libraries\n",
    "import numpy as np\n",
    "import pandas as pd\n",
    "import seaborn as sns\n",
    "import matplotlib.pyplot as plt\n",
    "from statsmodels.stats.outliers_influence import variance_inflation_factor\n",
    "\n",
    "\n",
    "# import the cleaned dataset from a csv file\n",
    "data = pd.read_csv(r'data_cleaned.csv')"
   ]
  },
  {
   "cell_type": "code",
   "execution_count": null,
   "id": "872c908b",
   "metadata": {},
   "outputs": [],
   "source": [
    "print(\"Shape of the dataset:\")\n",
    "data.shape"
   ]
  },
  {
   "cell_type": "code",
   "execution_count": null,
   "id": "a4769f7a",
   "metadata": {},
   "outputs": [],
   "source": [
    "print(\"available columns and their data types:\")\n",
    "data.dtypes"
   ]
  },
  {
   "cell_type": "code",
   "execution_count": null,
   "id": "d0b2b1da",
   "metadata": {},
   "outputs": [],
   "source": [
    "print(\"Overview of the first 5 rows:\")\n",
    "data.head()"
   ]
  },
  {
   "cell_type": "code",
   "execution_count": null,
   "id": "a2200872",
   "metadata": {},
   "outputs": [],
   "source": [
    "print(\"Descriptive statistics:\")\n",
    "data.describe().T"
   ]
  },
  {
   "cell_type": "code",
   "execution_count": null,
   "id": "fe2d9d11",
   "metadata": {},
   "outputs": [],
   "source": [
    "# Group by Year and calculate mean CO₂ per capita\n",
    "df_yearly_avg = data.groupby('year')['co2_per_cap'].mean().reset_index()\n",
    "\n",
    "# Plot\n",
    "plt.figure(figsize=(10, 6))\n",
    "sns.lineplot(data=data, x='year', y='co2_per_cap', marker='o')\n",
    "plt.title('Global Average CO₂ Emissions per Capita Over Time')\n",
    "plt.ylabel('CO₂ per Capita (metric tons)')\n",
    "plt.xlabel('Year')\n",
    "plt.grid(True)\n",
    "plt.tight_layout()\n",
    "plt.show()"
   ]
  },
  {
   "cell_type": "code",
   "execution_count": null,
   "id": "5ca62e94",
   "metadata": {},
   "outputs": [],
   "source": [
    "# Plot\n",
    "plt.figure(figsize=(10, 6))\n",
    "sns.lineplot(data=data, x='pop', y='co2_ttl', marker='^')\n",
    "plt.title('Total CO₂ Emissions against Population')\n",
    "plt.ylabel('Total CO₂ emissions')\n",
    "plt.xlabel('Population')\n",
    "plt.grid(True)\n",
    "plt.tight_layout()\n",
    "plt.show()"
   ]
  },
  {
   "cell_type": "code",
   "execution_count": null,
   "id": "6ed1c0b2",
   "metadata": {},
   "outputs": [],
   "source": [
    "# create a column for the total energy use\n",
    "data['en_ttl'] = data['en_per_gdp'] * data['gdp'] /1000"
   ]
  },
  {
   "cell_type": "code",
   "execution_count": null,
   "id": "15dae9eb",
   "metadata": {},
   "outputs": [],
   "source": [
    "# select all features\n",
    "features_all = data[['country','year','cereal_yield','fdi_perc_gdp','gni_per_cap',\n",
    "                     'en_per_gdp', 'en_per_cap', 'en_ttl', 'co2_ttl', 'co2_per_cap',\n",
    "                     'co2_per_gdp', 'pop_urb_aggl_perc', 'prot_area_perc', 'gdp',\n",
    "                     'pop_growth_perc', 'pop', 'urb_pop_growth_perc']]\n",
    "\n",
    "# plot a correlation of all features\n",
    "# correlation matrix\n",
    "sns.set_theme(font_scale=2)\n",
    "f,ax=plt.subplots(figsize=(30,20))\n",
    "sns.heatmap(features_all.drop(['country'], axis=1).corr(), annot=True, cmap='coolwarm', fmt = \".2f\", \n",
    "            center=0, vmin=-1, vmax=1)\n",
    "plt.title('Correlation between features', fontsize=25, weight='bold' )\n",
    "plt.show()\n",
    "\n",
    "sns.set_theme(font_scale=1)"
   ]
  },
  {
   "cell_type": "code",
   "execution_count": null,
   "id": "7d5ad9e2",
   "metadata": {},
   "outputs": [],
   "source": [
    "features_for_vif = data[['cereal_yield','fdi_perc_gdp','gni_per_cap', 'en_per_cap', 'co2_per_cap',\n",
    "                     'pop_urb_aggl_perc', 'prot_area_perc', 'gdp',  'pop_growth_perc', 'urb_pop_growth_perc']]\n",
    "\n",
    "\n",
    "vif_data = pd.DataFrame()\n",
    "vif_data[\"feature\"] = features_for_vif.columns # Use the columns from the features_for_vif DataFrame\n",
    "vif_data[\"VIF\"] = [variance_inflation_factor(features_for_vif.values, i)\n",
    "                   for i in range(features_for_vif.shape[1])] # Use the values and number of columns from features_for_vif\n",
    "print(vif_data)"
   ]
  },
  {
   "cell_type": "code",
   "execution_count": null,
   "id": "cd9c0eaf",
   "metadata": {},
   "outputs": [],
   "source": [
    "features = features_all[['cereal_yield','fdi_perc_gdp','gni_per_cap', 'en_per_cap', 'co2_per_cap',\n",
    "                     'pop_urb_aggl_perc', 'prot_area_perc', 'gdp',  'pop_growth_perc', 'urb_pop_growth_perc']]"
   ]
  },
  {
   "cell_type": "code",
   "execution_count": null,
   "id": "1e22b27e",
   "metadata": {},
   "outputs": [],
   "source": [
    "# a dictionary with feature labels\n",
    "labels_dict = {'gni_per_cap':'GNI per capita [Atlas $]',\n",
    "               'gdp':'Gross Domestic Product [$]',\n",
    "               'cereal_yield':'Cereal yield [kg/ha]',\n",
    "               'prot_area_perc': 'Nationally terrestrial protected areas [% of total land area]',\n",
    "               'fdi_perc_gdp': 'Foreign Direct Investment [% of GDP]',\n",
    "               'pop_urb_aggl_perc': 'Population in urban agglomerations > 1mln [%]',\n",
    "               'urb_pop_growth_perc':'Urban population growth [annual %]',\n",
    "               'pop_growth_perc': 'Population growth [annual %]',\n",
    "               'co2_per_cap':'CO2 emissions per capita [t]',\n",
    "               'en_per_cap':'Energy use per capita [kg oil eq]' }"
   ]
  },
  {
   "cell_type": "code",
   "execution_count": null,
   "id": "93839522",
   "metadata": {},
   "outputs": [],
   "source": [
    "# get unique values in country column\n",
    "\n",
    "unique_countries = data['country'].unique()\n",
    "unique_countries"
   ]
  },
  {
   "cell_type": "code",
   "execution_count": null,
   "id": "d7fe601f",
   "metadata": {},
   "outputs": [],
   "source": [
    "# Select countries to compare\n",
    "selected_countries = ['IND', 'USA', 'PAK', 'RUS', 'NZL']\n",
    "\n",
    "# Use the correct DataFrame variable 'data' and column names 'country', 'year', and 'co2_per_cap'\n",
    "df_selected = data[data['country'].isin(selected_countries)]\n",
    "\n",
    "# Plot\n",
    "plt.figure(figsize=(12, 6))\n",
    "# Use the correct DataFrame variable 'df_selected' and column names 'year' and 'co2_per_cap' for plotting\n",
    "sns.lineplot(data=df_selected, x='year', y='co2_per_cap', hue='country', marker='o')\n",
    "plt.title('CO₂ Emissions per Capita Over Time (Selected Countries)')\n",
    "plt.ylabel('CO₂ per Capita (metric tons)')\n",
    "plt.xlabel('Year')\n",
    "plt.legend(title='Country')\n",
    "plt.grid(True)\n",
    "plt.tight_layout()\n",
    "plt.show()"
   ]
  },
  {
   "cell_type": "code",
   "execution_count": null,
   "id": "93f1a46a",
   "metadata": {},
   "outputs": [],
   "source": [
    "# select only rows for half of the countries chosen randomly in order to ensure better visibility\n",
    "chosen_countries=['IND', 'LMC', 'LMY', 'MAR', 'MEX', 'MIC', 'MNA', 'MOZ', 'MYS',\n",
    "'NGA', 'NLD', 'NZL', 'PAK', 'PAN', 'PER', 'PHL', 'PRT', 'PRY',\n",
    "'ROM', 'SAS', 'SAU', 'SDN', 'SEN', 'SLV', 'SSA', 'SWE', 'SYR',\n",
    "'TGO', 'THA', 'TUR', 'TZA', 'UMC', 'URY', 'USA', 'VEN', 'VNM',\n",
    "'WLD', 'ZAF', 'ZAR', 'ZMB', 'ECA', 'POL', 'RUS', 'UKR', 'YEM',\n",
    "'ETH', 'BEL']\n",
    "\n",
    "features_chosen = features_all[features_all['country'].isin(chosen_countries)]"
   ]
  },
  {
   "cell_type": "code",
   "execution_count": null,
   "id": "289f99a3",
   "metadata": {},
   "outputs": [],
   "source": [
    "sns.set_theme(font_scale=1.3)\n",
    "sns.pairplot(data=features_chosen, hue='country')"
   ]
  },
  {
   "cell_type": "code",
   "execution_count": null,
   "id": "4638ad56",
   "metadata": {},
   "outputs": [],
   "source": [
    "# choose features and label columns\n",
    "feature_cols = ['country', 'cereal_yield','fdi_perc_gdp','gni_per_cap', 'en_per_cap', 'pop_urb_aggl_perc',\n",
    "                    'prot_area_perc', 'gdp',  'pop_growth_perc', 'urb_pop_growth_perc', 'co2_per_cap']\n",
    "\n",
    "# Keep as DataFrame for filtering\n",
    "features_for_plot = data[feature_cols].copy() # Create a copy to avoid SettingWithCopyWarning\n",
    "\n",
    "# remove the ARE outliers from the DataFrame used for plotting\n",
    "features_for_plot = features_for_plot[features_for_plot['country']!='ARE']"
   ]
  },
  {
   "cell_type": "code",
   "execution_count": null,
   "id": "6f77a96e",
   "metadata": {},
   "outputs": [],
   "source": [
    "# 4d plot\n",
    "\n",
    "sns.set_theme(style=\"whitegrid\", font_scale=2)\n",
    "\n",
    "cmap = sns.cubehelix_palette(rot=-.2, as_cmap=True)\n",
    "g = sns.relplot(\n",
    "    data=features_for_plot, # Use the DataFrame specifically prepared for plotting\n",
    "    x=\"urb_pop_growth_perc\", y=\"co2_per_cap\",\n",
    "    hue=\"en_per_cap\", size=\"pop_urb_aggl_perc\",\n",
    "    palette=cmap, sizes=(10, 200),\n",
    "    height=10, aspect= 4/3\n",
    ")\n",
    "\n",
    "g.ax.set_xlabel(labels_dict['urb_pop_growth_perc'])\n",
    "g.ax.set_ylabel(labels_dict['co2_per_cap'])"
   ]
  }
 ],
 "metadata": {
  "kernelspec": {
   "display_name": "Python 3",
   "language": "python",
   "name": "python3"
  },
  "language_info": {
   "name": "python",
   "version": "3.11.9"
  }
 },
 "nbformat": 4,
 "nbformat_minor": 5
}
